{
 "cells": [
  {
   "cell_type": "code",
   "execution_count": 1,
   "id": "f3b1b764",
   "metadata": {
    "_cell_guid": "b1076dfc-b9ad-4769-8c92-a6c4dae69d19",
    "_uuid": "8f2839f25d086af736a60e9eeb907d3b93b6e0e5",
    "execution": {
     "iopub.execute_input": "2023-07-21T09:38:51.662463Z",
     "iopub.status.busy": "2023-07-21T09:38:51.662035Z",
     "iopub.status.idle": "2023-07-21T09:38:51.681202Z",
     "shell.execute_reply": "2023-07-21T09:38:51.679888Z"
    },
    "papermill": {
     "duration": 0.041019,
     "end_time": "2023-07-21T09:38:51.683897",
     "exception": false,
     "start_time": "2023-07-21T09:38:51.642878",
     "status": "completed"
    },
    "tags": []
   },
   "outputs": [
    {
     "name": "stdout",
     "output_type": "stream",
     "text": [
      "/kaggle/input/goodreads-books-reviews-290312/goodreads_test.csv\n",
      "/kaggle/input/goodreads-books-reviews-290312/goodreads_sample_submission.csv\n",
      "/kaggle/input/goodreads-books-reviews-290312/goodreads_train.csv\n"
     ]
    }
   ],
   "source": [
    "# This Python 3 environment comes with many helpful analytics libraries installed\n",
    "# It is defined by the kaggle/python Docker image: https://github.com/kaggle/docker-python\n",
    "# For example, here's several helpful packages to load\n",
    "\n",
    "import numpy as np # linear algebra\n",
    "import pandas as pd # data processing, CSV file I/O (e.g. pd.read_csv)\n",
    "\n",
    "# Input data files are available in the read-only \"../input/\" directory\n",
    "# For example, running this (by clicking run or pressing Shift+Enter) will list all files under the input directory\n",
    "\n",
    "import os\n",
    "for dirname, _, filenames in os.walk('/kaggle/input'):\n",
    "    for filename in filenames:\n",
    "        print(os.path.join(dirname, filename))\n",
    "\n",
    "# You can write up to 20GB to the current directory (/kaggle/working/) that gets preserved as output when you create a version using \"Save & Run All\" \n",
    "# You can also write temporary files to /kaggle/temp/, but they won't be saved outside of the current session"
   ]
  },
  {
   "cell_type": "code",
   "execution_count": 2,
   "id": "8643d8f3",
   "metadata": {
    "execution": {
     "iopub.execute_input": "2023-07-21T09:38:51.721250Z",
     "iopub.status.busy": "2023-07-21T09:38:51.720874Z",
     "iopub.status.idle": "2023-07-21T09:39:18.264883Z",
     "shell.execute_reply": "2023-07-21T09:39:18.263508Z"
    },
    "papermill": {
     "duration": 26.565712,
     "end_time": "2023-07-21T09:39:18.267997",
     "exception": false,
     "start_time": "2023-07-21T09:38:51.702285",
     "status": "completed"
    },
    "tags": []
   },
   "outputs": [],
   "source": [
    "data=pd.read_csv('/kaggle/input/goodreads-books-reviews-290312/goodreads_train.csv')"
   ]
  },
  {
   "cell_type": "code",
   "execution_count": 3,
   "id": "7e96028c",
   "metadata": {
    "execution": {
     "iopub.execute_input": "2023-07-21T09:39:18.305833Z",
     "iopub.status.busy": "2023-07-21T09:39:18.305383Z",
     "iopub.status.idle": "2023-07-21T09:39:18.344006Z",
     "shell.execute_reply": "2023-07-21T09:39:18.342525Z"
    },
    "papermill": {
     "duration": 0.060512,
     "end_time": "2023-07-21T09:39:18.346792",
     "exception": false,
     "start_time": "2023-07-21T09:39:18.286280",
     "status": "completed"
    },
    "tags": []
   },
   "outputs": [
    {
     "data": {
      "text/html": [
       "<div>\n",
       "<style scoped>\n",
       "    .dataframe tbody tr th:only-of-type {\n",
       "        vertical-align: middle;\n",
       "    }\n",
       "\n",
       "    .dataframe tbody tr th {\n",
       "        vertical-align: top;\n",
       "    }\n",
       "\n",
       "    .dataframe thead th {\n",
       "        text-align: right;\n",
       "    }\n",
       "</style>\n",
       "<table border=\"1\" class=\"dataframe\">\n",
       "  <thead>\n",
       "    <tr style=\"text-align: right;\">\n",
       "      <th></th>\n",
       "      <th>user_id</th>\n",
       "      <th>book_id</th>\n",
       "      <th>review_id</th>\n",
       "      <th>rating</th>\n",
       "      <th>review_text</th>\n",
       "      <th>date_added</th>\n",
       "      <th>date_updated</th>\n",
       "      <th>read_at</th>\n",
       "      <th>started_at</th>\n",
       "      <th>n_votes</th>\n",
       "      <th>n_comments</th>\n",
       "    </tr>\n",
       "  </thead>\n",
       "  <tbody>\n",
       "    <tr>\n",
       "      <th>0</th>\n",
       "      <td>8842281e1d1347389f2ab93d60773d4d</td>\n",
       "      <td>18245960</td>\n",
       "      <td>dfdbb7b0eb5a7e4c26d59a937e2e5feb</td>\n",
       "      <td>5</td>\n",
       "      <td>This is a special book. It started slow for ab...</td>\n",
       "      <td>Sun Jul 30 07:44:10 -0700 2017</td>\n",
       "      <td>Wed Aug 30 00:00:26 -0700 2017</td>\n",
       "      <td>Sat Aug 26 12:05:52 -0700 2017</td>\n",
       "      <td>Tue Aug 15 13:23:18 -0700 2017</td>\n",
       "      <td>28</td>\n",
       "      <td>1</td>\n",
       "    </tr>\n",
       "    <tr>\n",
       "      <th>1</th>\n",
       "      <td>8842281e1d1347389f2ab93d60773d4d</td>\n",
       "      <td>16981</td>\n",
       "      <td>a5d2c3628987712d0e05c4f90798eb67</td>\n",
       "      <td>3</td>\n",
       "      <td>Recommended by Don Katz. Avail for free in Dec...</td>\n",
       "      <td>Mon Dec 05 10:46:44 -0800 2016</td>\n",
       "      <td>Wed Mar 22 11:37:04 -0700 2017</td>\n",
       "      <td>NaN</td>\n",
       "      <td>NaN</td>\n",
       "      <td>1</td>\n",
       "      <td>0</td>\n",
       "    </tr>\n",
       "    <tr>\n",
       "      <th>2</th>\n",
       "      <td>8842281e1d1347389f2ab93d60773d4d</td>\n",
       "      <td>28684704</td>\n",
       "      <td>2ede853b14dc4583f96cf5d120af636f</td>\n",
       "      <td>3</td>\n",
       "      <td>A fun, fast paced science fiction thriller. I ...</td>\n",
       "      <td>Tue Nov 15 11:29:22 -0800 2016</td>\n",
       "      <td>Mon Mar 20 23:40:27 -0700 2017</td>\n",
       "      <td>Sat Mar 18 23:22:42 -0700 2017</td>\n",
       "      <td>Fri Mar 17 23:45:40 -0700 2017</td>\n",
       "      <td>22</td>\n",
       "      <td>0</td>\n",
       "    </tr>\n",
       "    <tr>\n",
       "      <th>3</th>\n",
       "      <td>8842281e1d1347389f2ab93d60773d4d</td>\n",
       "      <td>27161156</td>\n",
       "      <td>ced5675e55cd9d38a524743f5c40996e</td>\n",
       "      <td>0</td>\n",
       "      <td>Recommended reading to understand what is goin...</td>\n",
       "      <td>Wed Nov 09 17:37:04 -0800 2016</td>\n",
       "      <td>Wed Nov 09 17:38:20 -0800 2016</td>\n",
       "      <td>NaN</td>\n",
       "      <td>NaN</td>\n",
       "      <td>5</td>\n",
       "      <td>1</td>\n",
       "    </tr>\n",
       "    <tr>\n",
       "      <th>4</th>\n",
       "      <td>8842281e1d1347389f2ab93d60773d4d</td>\n",
       "      <td>25884323</td>\n",
       "      <td>332732725863131279a8e345b63ac33e</td>\n",
       "      <td>4</td>\n",
       "      <td>I really enjoyed this book, and there is a lot...</td>\n",
       "      <td>Mon Apr 25 09:31:23 -0700 2016</td>\n",
       "      <td>Mon Apr 25 09:31:23 -0700 2016</td>\n",
       "      <td>Sun Jun 26 00:00:00 -0700 2016</td>\n",
       "      <td>Sat May 28 00:00:00 -0700 2016</td>\n",
       "      <td>9</td>\n",
       "      <td>1</td>\n",
       "    </tr>\n",
       "  </tbody>\n",
       "</table>\n",
       "</div>"
      ],
      "text/plain": [
       "                            user_id   book_id  \\\n",
       "0  8842281e1d1347389f2ab93d60773d4d  18245960   \n",
       "1  8842281e1d1347389f2ab93d60773d4d     16981   \n",
       "2  8842281e1d1347389f2ab93d60773d4d  28684704   \n",
       "3  8842281e1d1347389f2ab93d60773d4d  27161156   \n",
       "4  8842281e1d1347389f2ab93d60773d4d  25884323   \n",
       "\n",
       "                          review_id  rating  \\\n",
       "0  dfdbb7b0eb5a7e4c26d59a937e2e5feb       5   \n",
       "1  a5d2c3628987712d0e05c4f90798eb67       3   \n",
       "2  2ede853b14dc4583f96cf5d120af636f       3   \n",
       "3  ced5675e55cd9d38a524743f5c40996e       0   \n",
       "4  332732725863131279a8e345b63ac33e       4   \n",
       "\n",
       "                                         review_text  \\\n",
       "0  This is a special book. It started slow for ab...   \n",
       "1  Recommended by Don Katz. Avail for free in Dec...   \n",
       "2  A fun, fast paced science fiction thriller. I ...   \n",
       "3  Recommended reading to understand what is goin...   \n",
       "4  I really enjoyed this book, and there is a lot...   \n",
       "\n",
       "                       date_added                    date_updated  \\\n",
       "0  Sun Jul 30 07:44:10 -0700 2017  Wed Aug 30 00:00:26 -0700 2017   \n",
       "1  Mon Dec 05 10:46:44 -0800 2016  Wed Mar 22 11:37:04 -0700 2017   \n",
       "2  Tue Nov 15 11:29:22 -0800 2016  Mon Mar 20 23:40:27 -0700 2017   \n",
       "3  Wed Nov 09 17:37:04 -0800 2016  Wed Nov 09 17:38:20 -0800 2016   \n",
       "4  Mon Apr 25 09:31:23 -0700 2016  Mon Apr 25 09:31:23 -0700 2016   \n",
       "\n",
       "                          read_at                      started_at  n_votes  \\\n",
       "0  Sat Aug 26 12:05:52 -0700 2017  Tue Aug 15 13:23:18 -0700 2017       28   \n",
       "1                             NaN                             NaN        1   \n",
       "2  Sat Mar 18 23:22:42 -0700 2017  Fri Mar 17 23:45:40 -0700 2017       22   \n",
       "3                             NaN                             NaN        5   \n",
       "4  Sun Jun 26 00:00:00 -0700 2016  Sat May 28 00:00:00 -0700 2016        9   \n",
       "\n",
       "   n_comments  \n",
       "0           1  \n",
       "1           0  \n",
       "2           0  \n",
       "3           1  \n",
       "4           1  "
      ]
     },
     "execution_count": 3,
     "metadata": {},
     "output_type": "execute_result"
    }
   ],
   "source": [
    "data.head()"
   ]
  },
  {
   "cell_type": "code",
   "execution_count": 4,
   "id": "68c11ce9",
   "metadata": {
    "execution": {
     "iopub.execute_input": "2023-07-21T09:39:18.384006Z",
     "iopub.status.busy": "2023-07-21T09:39:18.383590Z",
     "iopub.status.idle": "2023-07-21T09:39:18.391464Z",
     "shell.execute_reply": "2023-07-21T09:39:18.389978Z"
    },
    "papermill": {
     "duration": 0.029226,
     "end_time": "2023-07-21T09:39:18.394190",
     "exception": false,
     "start_time": "2023-07-21T09:39:18.364964",
     "status": "completed"
    },
    "tags": []
   },
   "outputs": [
    {
     "data": {
      "text/plain": [
       "(900000, 11)"
      ]
     },
     "execution_count": 4,
     "metadata": {},
     "output_type": "execute_result"
    }
   ],
   "source": [
    "data.shape"
   ]
  },
  {
   "cell_type": "code",
   "execution_count": 5,
   "id": "0534eebc",
   "metadata": {
    "execution": {
     "iopub.execute_input": "2023-07-21T09:39:18.431060Z",
     "iopub.status.busy": "2023-07-21T09:39:18.430293Z",
     "iopub.status.idle": "2023-07-21T09:39:20.542790Z",
     "shell.execute_reply": "2023-07-21T09:39:20.540969Z"
    },
    "papermill": {
     "duration": 2.134182,
     "end_time": "2023-07-21T09:39:20.545730",
     "exception": false,
     "start_time": "2023-07-21T09:39:18.411548",
     "status": "completed"
    },
    "tags": []
   },
   "outputs": [
    {
     "name": "stdout",
     "output_type": "stream",
     "text": [
      "<class 'pandas.core.frame.DataFrame'>\n",
      "RangeIndex: 900000 entries, 0 to 899999\n",
      "Data columns (total 11 columns):\n",
      " #   Column        Non-Null Count   Dtype \n",
      "---  ------        --------------   ----- \n",
      " 0   user_id       900000 non-null  object\n",
      " 1   book_id       900000 non-null  int64 \n",
      " 2   review_id     900000 non-null  object\n",
      " 3   rating        900000 non-null  int64 \n",
      " 4   review_text   900000 non-null  object\n",
      " 5   date_added    900000 non-null  object\n",
      " 6   date_updated  900000 non-null  object\n",
      " 7   read_at       808234 non-null  object\n",
      " 8   started_at    625703 non-null  object\n",
      " 9   n_votes       900000 non-null  int64 \n",
      " 10  n_comments    900000 non-null  int64 \n",
      "dtypes: int64(4), object(7)\n",
      "memory usage: 75.5+ MB\n"
     ]
    }
   ],
   "source": [
    "data.info()"
   ]
  },
  {
   "cell_type": "code",
   "execution_count": 6,
   "id": "a60b4cdc",
   "metadata": {
    "execution": {
     "iopub.execute_input": "2023-07-21T09:39:20.583955Z",
     "iopub.status.busy": "2023-07-21T09:39:20.583519Z",
     "iopub.status.idle": "2023-07-21T09:39:20.724902Z",
     "shell.execute_reply": "2023-07-21T09:39:20.723804Z"
    },
    "papermill": {
     "duration": 0.163536,
     "end_time": "2023-07-21T09:39:20.727403",
     "exception": false,
     "start_time": "2023-07-21T09:39:20.563867",
     "status": "completed"
    },
    "tags": []
   },
   "outputs": [
    {
     "data": {
      "text/html": [
       "<div>\n",
       "<style scoped>\n",
       "    .dataframe tbody tr th:only-of-type {\n",
       "        vertical-align: middle;\n",
       "    }\n",
       "\n",
       "    .dataframe tbody tr th {\n",
       "        vertical-align: top;\n",
       "    }\n",
       "\n",
       "    .dataframe thead th {\n",
       "        text-align: right;\n",
       "    }\n",
       "</style>\n",
       "<table border=\"1\" class=\"dataframe\">\n",
       "  <thead>\n",
       "    <tr style=\"text-align: right;\">\n",
       "      <th></th>\n",
       "      <th>book_id</th>\n",
       "      <th>rating</th>\n",
       "      <th>n_votes</th>\n",
       "      <th>n_comments</th>\n",
       "    </tr>\n",
       "  </thead>\n",
       "  <tbody>\n",
       "    <tr>\n",
       "      <th>count</th>\n",
       "      <td>9.000000e+05</td>\n",
       "      <td>900000.000000</td>\n",
       "      <td>900000.000000</td>\n",
       "      <td>900000.000000</td>\n",
       "    </tr>\n",
       "    <tr>\n",
       "      <th>mean</th>\n",
       "      <td>1.344145e+07</td>\n",
       "      <td>3.689639</td>\n",
       "      <td>3.294381</td>\n",
       "      <td>1.016656</td>\n",
       "    </tr>\n",
       "    <tr>\n",
       "      <th>std</th>\n",
       "      <td>9.357863e+06</td>\n",
       "      <td>1.252583</td>\n",
       "      <td>17.873553</td>\n",
       "      <td>5.963821</td>\n",
       "    </tr>\n",
       "    <tr>\n",
       "      <th>min</th>\n",
       "      <td>1.000000e+00</td>\n",
       "      <td>0.000000</td>\n",
       "      <td>-3.000000</td>\n",
       "      <td>-1.000000</td>\n",
       "    </tr>\n",
       "    <tr>\n",
       "      <th>25%</th>\n",
       "      <td>6.340471e+06</td>\n",
       "      <td>3.000000</td>\n",
       "      <td>0.000000</td>\n",
       "      <td>0.000000</td>\n",
       "    </tr>\n",
       "    <tr>\n",
       "      <th>50%</th>\n",
       "      <td>1.344203e+07</td>\n",
       "      <td>4.000000</td>\n",
       "      <td>0.000000</td>\n",
       "      <td>0.000000</td>\n",
       "    </tr>\n",
       "    <tr>\n",
       "      <th>75%</th>\n",
       "      <td>2.057897e+07</td>\n",
       "      <td>5.000000</td>\n",
       "      <td>2.000000</td>\n",
       "      <td>0.000000</td>\n",
       "    </tr>\n",
       "    <tr>\n",
       "      <th>max</th>\n",
       "      <td>3.632868e+07</td>\n",
       "      <td>5.000000</td>\n",
       "      <td>3222.000000</td>\n",
       "      <td>1335.000000</td>\n",
       "    </tr>\n",
       "  </tbody>\n",
       "</table>\n",
       "</div>"
      ],
      "text/plain": [
       "            book_id         rating        n_votes     n_comments\n",
       "count  9.000000e+05  900000.000000  900000.000000  900000.000000\n",
       "mean   1.344145e+07       3.689639       3.294381       1.016656\n",
       "std    9.357863e+06       1.252583      17.873553       5.963821\n",
       "min    1.000000e+00       0.000000      -3.000000      -1.000000\n",
       "25%    6.340471e+06       3.000000       0.000000       0.000000\n",
       "50%    1.344203e+07       4.000000       0.000000       0.000000\n",
       "75%    2.057897e+07       5.000000       2.000000       0.000000\n",
       "max    3.632868e+07       5.000000    3222.000000    1335.000000"
      ]
     },
     "execution_count": 6,
     "metadata": {},
     "output_type": "execute_result"
    }
   ],
   "source": [
    "data.describe()"
   ]
  },
  {
   "cell_type": "code",
   "execution_count": 7,
   "id": "2bb0e999",
   "metadata": {
    "execution": {
     "iopub.execute_input": "2023-07-21T09:39:20.764873Z",
     "iopub.status.busy": "2023-07-21T09:39:20.764489Z",
     "iopub.status.idle": "2023-07-21T09:39:20.771975Z",
     "shell.execute_reply": "2023-07-21T09:39:20.770705Z"
    },
    "papermill": {
     "duration": 0.029029,
     "end_time": "2023-07-21T09:39:20.774364",
     "exception": false,
     "start_time": "2023-07-21T09:39:20.745335",
     "status": "completed"
    },
    "tags": []
   },
   "outputs": [
    {
     "data": {
      "text/plain": [
       "Index(['user_id', 'book_id', 'review_id', 'rating', 'review_text',\n",
       "       'date_added', 'date_updated', 'read_at', 'started_at', 'n_votes',\n",
       "       'n_comments'],\n",
       "      dtype='object')"
      ]
     },
     "execution_count": 7,
     "metadata": {},
     "output_type": "execute_result"
    }
   ],
   "source": [
    "data.columns"
   ]
  },
  {
   "cell_type": "code",
   "execution_count": 8,
   "id": "a9edbd14",
   "metadata": {
    "execution": {
     "iopub.execute_input": "2023-07-21T09:39:20.812194Z",
     "iopub.status.busy": "2023-07-21T09:39:20.811763Z",
     "iopub.status.idle": "2023-07-21T09:39:20.829901Z",
     "shell.execute_reply": "2023-07-21T09:39:20.828757Z"
    },
    "papermill": {
     "duration": 0.039558,
     "end_time": "2023-07-21T09:39:20.832297",
     "exception": false,
     "start_time": "2023-07-21T09:39:20.792739",
     "status": "completed"
    },
    "tags": []
   },
   "outputs": [
    {
     "data": {
      "text/plain": [
       "4    313688\n",
       "5    265007\n",
       "3    188972\n",
       "2     72627\n",
       "0     30988\n",
       "1     28718\n",
       "Name: rating, dtype: int64"
      ]
     },
     "execution_count": 8,
     "metadata": {},
     "output_type": "execute_result"
    }
   ],
   "source": [
    "data['rating'].value_counts()"
   ]
  },
  {
   "cell_type": "code",
   "execution_count": 9,
   "id": "1a32b2a7",
   "metadata": {
    "execution": {
     "iopub.execute_input": "2023-07-21T09:39:20.870671Z",
     "iopub.status.busy": "2023-07-21T09:39:20.870212Z",
     "iopub.status.idle": "2023-07-21T09:39:22.950623Z",
     "shell.execute_reply": "2023-07-21T09:39:22.949437Z"
    },
    "papermill": {
     "duration": 2.103314,
     "end_time": "2023-07-21T09:39:22.953798",
     "exception": false,
     "start_time": "2023-07-21T09:39:20.850484",
     "status": "completed"
    },
    "tags": []
   },
   "outputs": [
    {
     "data": {
      "text/plain": [
       "user_id         0.000000\n",
       "book_id         0.000000\n",
       "review_id       0.000000\n",
       "rating          0.000000\n",
       "review_text     0.000000\n",
       "date_added      0.000000\n",
       "date_updated    0.000000\n",
       "read_at         0.101962\n",
       "started_at      0.304774\n",
       "n_votes         0.000000\n",
       "n_comments      0.000000\n",
       "dtype: float64"
      ]
     },
     "execution_count": 9,
     "metadata": {},
     "output_type": "execute_result"
    }
   ],
   "source": [
    "data.isnull().sum()/len(data)"
   ]
  },
  {
   "cell_type": "markdown",
   "id": "44e74fca",
   "metadata": {
    "papermill": {
     "duration": 0.01854,
     "end_time": "2023-07-21T09:39:22.998171",
     "exception": false,
     "start_time": "2023-07-21T09:39:22.979631",
     "status": "completed"
    },
    "tags": []
   },
   "source": [
    "# Reducing data"
   ]
  },
  {
   "cell_type": "code",
   "execution_count": 10,
   "id": "9c4964c3",
   "metadata": {
    "execution": {
     "iopub.execute_input": "2023-07-21T09:39:23.036752Z",
     "iopub.status.busy": "2023-07-21T09:39:23.036234Z",
     "iopub.status.idle": "2023-07-21T09:39:23.292213Z",
     "shell.execute_reply": "2023-07-21T09:39:23.291004Z"
    },
    "papermill": {
     "duration": 0.278944,
     "end_time": "2023-07-21T09:39:23.295257",
     "exception": false,
     "start_time": "2023-07-21T09:39:23.016313",
     "status": "completed"
    },
    "tags": []
   },
   "outputs": [],
   "source": [
    "rate0=data[data['rating']==0]\n",
    "rate1=data[data['rating']==1]\n",
    "rate2=data[data['rating']==2]\n",
    "rate3=data[data['rating']==3]\n",
    "rate4=data[data['rating']==4]\n",
    "rate5=data[data['rating']==5]"
   ]
  },
  {
   "cell_type": "code",
   "execution_count": 11,
   "id": "54361fa4",
   "metadata": {
    "execution": {
     "iopub.execute_input": "2023-07-21T09:39:23.336874Z",
     "iopub.status.busy": "2023-07-21T09:39:23.336465Z",
     "iopub.status.idle": "2023-07-21T09:39:23.344801Z",
     "shell.execute_reply": "2023-07-21T09:39:23.343793Z"
    },
    "papermill": {
     "duration": 0.031899,
     "end_time": "2023-07-21T09:39:23.347207",
     "exception": false,
     "start_time": "2023-07-21T09:39:23.315308",
     "status": "completed"
    },
    "tags": []
   },
   "outputs": [
    {
     "data": {
      "text/plain": [
       "((30988, 11),\n",
       " (28718, 11),\n",
       " (72627, 11),\n",
       " (188972, 11),\n",
       " (313688, 11),\n",
       " (265007, 11))"
      ]
     },
     "execution_count": 11,
     "metadata": {},
     "output_type": "execute_result"
    }
   ],
   "source": [
    "rate0.shape, rate1.shape,rate2.shape,rate3.shape,rate4.shape,rate5.shape"
   ]
  },
  {
   "cell_type": "code",
   "execution_count": 12,
   "id": "48b3dfe7",
   "metadata": {
    "execution": {
     "iopub.execute_input": "2023-07-21T09:39:23.387346Z",
     "iopub.status.busy": "2023-07-21T09:39:23.386538Z",
     "iopub.status.idle": "2023-07-21T09:39:23.465859Z",
     "shell.execute_reply": "2023-07-21T09:39:23.464679Z"
    },
    "papermill": {
     "duration": 0.102434,
     "end_time": "2023-07-21T09:39:23.468495",
     "exception": false,
     "start_time": "2023-07-21T09:39:23.366061",
     "status": "completed"
    },
    "tags": []
   },
   "outputs": [],
   "source": [
    "rate0=data[:(int)(rate0.shape[0]/100)]\n",
    "rate1=data[:(int)(rate1.shape[0]/100)]\n",
    "rate2=data[:(int)(rate2.shape[0]/100)]\n",
    "rate3=data[:(int)(rate3.shape[0]/100)]\n",
    "rate4=data[:(int)(rate4.shape[0]/100)]\n",
    "rate5=data[:(int)(rate5.shape[0]/100)]"
   ]
  },
  {
   "cell_type": "code",
   "execution_count": 13,
   "id": "98b8c8e0",
   "metadata": {
    "execution": {
     "iopub.execute_input": "2023-07-21T09:39:23.506744Z",
     "iopub.status.busy": "2023-07-21T09:39:23.506230Z",
     "iopub.status.idle": "2023-07-21T09:39:23.514193Z",
     "shell.execute_reply": "2023-07-21T09:39:23.512994Z"
    },
    "papermill": {
     "duration": 0.0301,
     "end_time": "2023-07-21T09:39:23.516729",
     "exception": false,
     "start_time": "2023-07-21T09:39:23.486629",
     "status": "completed"
    },
    "tags": []
   },
   "outputs": [
    {
     "data": {
      "text/plain": [
       "((309, 11), (287, 11), (726, 11), (1889, 11), (3136, 11), (2650, 11))"
      ]
     },
     "execution_count": 13,
     "metadata": {},
     "output_type": "execute_result"
    }
   ],
   "source": [
    "rate0.shape, rate1.shape,rate2.shape,rate3.shape,rate4.shape,rate5.shape"
   ]
  },
  {
   "cell_type": "code",
   "execution_count": 14,
   "id": "f09c4029",
   "metadata": {
    "execution": {
     "iopub.execute_input": "2023-07-21T09:39:23.556261Z",
     "iopub.status.busy": "2023-07-21T09:39:23.555130Z",
     "iopub.status.idle": "2023-07-21T09:39:23.569841Z",
     "shell.execute_reply": "2023-07-21T09:39:23.568643Z"
    },
    "papermill": {
     "duration": 0.036818,
     "end_time": "2023-07-21T09:39:23.572326",
     "exception": false,
     "start_time": "2023-07-21T09:39:23.535508",
     "status": "completed"
    },
    "tags": []
   },
   "outputs": [],
   "source": [
    "data=pd.concat([rate0,rate1,rate2,rate3,rate4,rate5],axis=0)\n",
    "data=data.sample(frac=1)"
   ]
  },
  {
   "cell_type": "code",
   "execution_count": 15,
   "id": "f92c3409",
   "metadata": {
    "execution": {
     "iopub.execute_input": "2023-07-21T09:39:23.611759Z",
     "iopub.status.busy": "2023-07-21T09:39:23.610889Z",
     "iopub.status.idle": "2023-07-21T09:39:23.628022Z",
     "shell.execute_reply": "2023-07-21T09:39:23.626811Z"
    },
    "papermill": {
     "duration": 0.039059,
     "end_time": "2023-07-21T09:39:23.630224",
     "exception": false,
     "start_time": "2023-07-21T09:39:23.591165",
     "status": "completed"
    },
    "tags": []
   },
   "outputs": [
    {
     "data": {
      "text/html": [
       "<div>\n",
       "<style scoped>\n",
       "    .dataframe tbody tr th:only-of-type {\n",
       "        vertical-align: middle;\n",
       "    }\n",
       "\n",
       "    .dataframe tbody tr th {\n",
       "        vertical-align: top;\n",
       "    }\n",
       "\n",
       "    .dataframe thead th {\n",
       "        text-align: right;\n",
       "    }\n",
       "</style>\n",
       "<table border=\"1\" class=\"dataframe\">\n",
       "  <thead>\n",
       "    <tr style=\"text-align: right;\">\n",
       "      <th></th>\n",
       "      <th>user_id</th>\n",
       "      <th>book_id</th>\n",
       "      <th>review_id</th>\n",
       "      <th>rating</th>\n",
       "      <th>review_text</th>\n",
       "      <th>date_added</th>\n",
       "      <th>date_updated</th>\n",
       "      <th>read_at</th>\n",
       "      <th>started_at</th>\n",
       "      <th>n_votes</th>\n",
       "      <th>n_comments</th>\n",
       "    </tr>\n",
       "  </thead>\n",
       "  <tbody>\n",
       "    <tr>\n",
       "      <th>804</th>\n",
       "      <td>8e1db93d364acf3893ce998ebb8d57fc</td>\n",
       "      <td>6148028</td>\n",
       "      <td>65506855d04f2c96dab2304a63789301</td>\n",
       "      <td>5</td>\n",
       "      <td>Perfect \\n perfect \\n just perfect \\n EVERYONE...</td>\n",
       "      <td>Mon Jun 04 22:25:55 -0700 2012</td>\n",
       "      <td>Sun Nov 10 04:38:57 -0800 2013</td>\n",
       "      <td>Sat Jan 01 00:00:00 -0800 2011</td>\n",
       "      <td>NaN</td>\n",
       "      <td>0</td>\n",
       "      <td>0</td>\n",
       "    </tr>\n",
       "    <tr>\n",
       "      <th>2126</th>\n",
       "      <td>792500e85277fa7ada535de23e7eb4c3</td>\n",
       "      <td>127459</td>\n",
       "      <td>af380030173cad4ef97405adee06ba5d</td>\n",
       "      <td>2</td>\n",
       "      <td>Not nearly as strong as the first two books. O...</td>\n",
       "      <td>Wed Jun 06 10:20:59 -0700 2012</td>\n",
       "      <td>Mon Aug 11 20:29:25 -0700 2014</td>\n",
       "      <td>NaN</td>\n",
       "      <td>NaN</td>\n",
       "      <td>0</td>\n",
       "      <td>0</td>\n",
       "    </tr>\n",
       "    <tr>\n",
       "      <th>1736</th>\n",
       "      <td>7ac68d284be15768081bd3e86a1431c9</td>\n",
       "      <td>20757521</td>\n",
       "      <td>66d031273aa88f363985d731c90d38a7</td>\n",
       "      <td>5</td>\n",
       "      <td>First, allow me to remind everyone that I AM A...</td>\n",
       "      <td>Sat Oct 04 19:55:44 -0700 2014</td>\n",
       "      <td>Wed Oct 08 19:43:58 -0700 2014</td>\n",
       "      <td>Tue Oct 07 00:00:00 -0700 2014</td>\n",
       "      <td>Sat Oct 04 00:00:00 -0700 2014</td>\n",
       "      <td>1</td>\n",
       "      <td>0</td>\n",
       "    </tr>\n",
       "    <tr>\n",
       "      <th>263</th>\n",
       "      <td>01ec1a320ffded6b2dd47833f2c8e4fb</td>\n",
       "      <td>25802884</td>\n",
       "      <td>f2bdb548e33667f8e5af4948e9c9d63b</td>\n",
       "      <td>4</td>\n",
       "      <td>4.5 Stars \\n Classic enemies-to-lovers romance...</td>\n",
       "      <td>Fri Jun 26 23:23:47 -0700 2015</td>\n",
       "      <td>Thu Sep 10 14:44:42 -0700 2015</td>\n",
       "      <td>Mon Sep 07 00:00:00 -0700 2015</td>\n",
       "      <td>Sat Sep 05 00:00:00 -0700 2015</td>\n",
       "      <td>21</td>\n",
       "      <td>0</td>\n",
       "    </tr>\n",
       "    <tr>\n",
       "      <th>750</th>\n",
       "      <td>2f6af21d14c83a5df6cdcef5e6af0b3e</td>\n",
       "      <td>17572903</td>\n",
       "      <td>7b3bd4c777160087515c1f1bb77462de</td>\n",
       "      <td>3</td>\n",
       "      <td>This book has highs and lows--stars are the av...</td>\n",
       "      <td>Fri Jan 24 08:06:23 -0800 2014</td>\n",
       "      <td>Sun Jan 26 15:25:35 -0800 2014</td>\n",
       "      <td>Sat Jan 25 00:00:00 -0800 2014</td>\n",
       "      <td>Fri Jan 24 00:00:00 -0800 2014</td>\n",
       "      <td>0</td>\n",
       "      <td>0</td>\n",
       "    </tr>\n",
       "  </tbody>\n",
       "</table>\n",
       "</div>"
      ],
      "text/plain": [
       "                               user_id   book_id  \\\n",
       "804   8e1db93d364acf3893ce998ebb8d57fc   6148028   \n",
       "2126  792500e85277fa7ada535de23e7eb4c3    127459   \n",
       "1736  7ac68d284be15768081bd3e86a1431c9  20757521   \n",
       "263   01ec1a320ffded6b2dd47833f2c8e4fb  25802884   \n",
       "750   2f6af21d14c83a5df6cdcef5e6af0b3e  17572903   \n",
       "\n",
       "                             review_id  rating  \\\n",
       "804   65506855d04f2c96dab2304a63789301       5   \n",
       "2126  af380030173cad4ef97405adee06ba5d       2   \n",
       "1736  66d031273aa88f363985d731c90d38a7       5   \n",
       "263   f2bdb548e33667f8e5af4948e9c9d63b       4   \n",
       "750   7b3bd4c777160087515c1f1bb77462de       3   \n",
       "\n",
       "                                            review_text  \\\n",
       "804   Perfect \\n perfect \\n just perfect \\n EVERYONE...   \n",
       "2126  Not nearly as strong as the first two books. O...   \n",
       "1736  First, allow me to remind everyone that I AM A...   \n",
       "263   4.5 Stars \\n Classic enemies-to-lovers romance...   \n",
       "750   This book has highs and lows--stars are the av...   \n",
       "\n",
       "                          date_added                    date_updated  \\\n",
       "804   Mon Jun 04 22:25:55 -0700 2012  Sun Nov 10 04:38:57 -0800 2013   \n",
       "2126  Wed Jun 06 10:20:59 -0700 2012  Mon Aug 11 20:29:25 -0700 2014   \n",
       "1736  Sat Oct 04 19:55:44 -0700 2014  Wed Oct 08 19:43:58 -0700 2014   \n",
       "263   Fri Jun 26 23:23:47 -0700 2015  Thu Sep 10 14:44:42 -0700 2015   \n",
       "750   Fri Jan 24 08:06:23 -0800 2014  Sun Jan 26 15:25:35 -0800 2014   \n",
       "\n",
       "                             read_at                      started_at  n_votes  \\\n",
       "804   Sat Jan 01 00:00:00 -0800 2011                             NaN        0   \n",
       "2126                             NaN                             NaN        0   \n",
       "1736  Tue Oct 07 00:00:00 -0700 2014  Sat Oct 04 00:00:00 -0700 2014        1   \n",
       "263   Mon Sep 07 00:00:00 -0700 2015  Sat Sep 05 00:00:00 -0700 2015       21   \n",
       "750   Sat Jan 25 00:00:00 -0800 2014  Fri Jan 24 00:00:00 -0800 2014        0   \n",
       "\n",
       "      n_comments  \n",
       "804            0  \n",
       "2126           0  \n",
       "1736           0  \n",
       "263            0  \n",
       "750            0  "
      ]
     },
     "execution_count": 15,
     "metadata": {},
     "output_type": "execute_result"
    }
   ],
   "source": [
    "data.head()"
   ]
  },
  {
   "cell_type": "code",
   "execution_count": 16,
   "id": "2847287c",
   "metadata": {
    "execution": {
     "iopub.execute_input": "2023-07-21T09:39:23.670923Z",
     "iopub.status.busy": "2023-07-21T09:39:23.668740Z",
     "iopub.status.idle": "2023-07-21T09:39:23.677096Z",
     "shell.execute_reply": "2023-07-21T09:39:23.676028Z"
    },
    "papermill": {
     "duration": 0.030411,
     "end_time": "2023-07-21T09:39:23.679269",
     "exception": false,
     "start_time": "2023-07-21T09:39:23.648858",
     "status": "completed"
    },
    "tags": []
   },
   "outputs": [
    {
     "data": {
      "text/plain": [
       "(8997, 11)"
      ]
     },
     "execution_count": 16,
     "metadata": {},
     "output_type": "execute_result"
    }
   ],
   "source": [
    "data.shape"
   ]
  },
  {
   "cell_type": "markdown",
   "id": "fbad087e",
   "metadata": {
    "papermill": {
     "duration": 0.020205,
     "end_time": "2023-07-21T09:39:23.718130",
     "exception": false,
     "start_time": "2023-07-21T09:39:23.697925",
     "status": "completed"
    },
    "tags": []
   },
   "source": [
    "# DataCleaning"
   ]
  },
  {
   "cell_type": "code",
   "execution_count": 17,
   "id": "7115c44a",
   "metadata": {
    "execution": {
     "iopub.execute_input": "2023-07-21T09:39:23.758593Z",
     "iopub.status.busy": "2023-07-21T09:39:23.757912Z",
     "iopub.status.idle": "2023-07-21T09:39:23.794094Z",
     "shell.execute_reply": "2023-07-21T09:39:23.793097Z"
    },
    "papermill": {
     "duration": 0.059888,
     "end_time": "2023-07-21T09:39:23.796871",
     "exception": false,
     "start_time": "2023-07-21T09:39:23.736983",
     "status": "completed"
    },
    "tags": []
   },
   "outputs": [],
   "source": [
    "#remove hashtags\n",
    "data['review_text'].replace( { r\"#(\\w+)\" : '' }, inplace= True, regex = True)"
   ]
  },
  {
   "cell_type": "code",
   "execution_count": 18,
   "id": "016f557d",
   "metadata": {
    "execution": {
     "iopub.execute_input": "2023-07-21T09:39:23.837373Z",
     "iopub.status.busy": "2023-07-21T09:39:23.836952Z",
     "iopub.status.idle": "2023-07-21T09:39:23.872056Z",
     "shell.execute_reply": "2023-07-21T09:39:23.870996Z"
    },
    "papermill": {
     "duration": 0.0579,
     "end_time": "2023-07-21T09:39:23.874733",
     "exception": false,
     "start_time": "2023-07-21T09:39:23.816833",
     "status": "completed"
    },
    "tags": []
   },
   "outputs": [],
   "source": [
    "#remove mentions\n",
    "data['review_text'].replace( { r\"@(\\w+)\" : '' }, inplace= True, regex = True)"
   ]
  },
  {
   "cell_type": "code",
   "execution_count": 19,
   "id": "6734a768",
   "metadata": {
    "execution": {
     "iopub.execute_input": "2023-07-21T09:39:23.914379Z",
     "iopub.status.busy": "2023-07-21T09:39:23.913957Z",
     "iopub.status.idle": "2023-07-21T09:39:23.959371Z",
     "shell.execute_reply": "2023-07-21T09:39:23.958194Z"
    },
    "papermill": {
     "duration": 0.068488,
     "end_time": "2023-07-21T09:39:23.962224",
     "exception": false,
     "start_time": "2023-07-21T09:39:23.893736",
     "status": "completed"
    },
    "tags": []
   },
   "outputs": [],
   "source": [
    "#remove urls\n",
    "data['review_text'].astype(str).replace( { r\"http\\S+\" : '' }, inplace= True, regex = True)"
   ]
  },
  {
   "cell_type": "code",
   "execution_count": 20,
   "id": "2fcc40f9",
   "metadata": {
    "execution": {
     "iopub.execute_input": "2023-07-21T09:39:24.003650Z",
     "iopub.status.busy": "2023-07-21T09:39:24.003236Z",
     "iopub.status.idle": "2023-07-21T09:39:24.025220Z",
     "shell.execute_reply": "2023-07-21T09:39:24.023938Z"
    },
    "papermill": {
     "duration": 0.046227,
     "end_time": "2023-07-21T09:39:24.028145",
     "exception": false,
     "start_time": "2023-07-21T09:39:23.981918",
     "status": "completed"
    },
    "tags": []
   },
   "outputs": [],
   "source": [
    "#converting into lower case\n",
    "\n",
    "data['review_text']=data['review_text'].str.lower()"
   ]
  },
  {
   "cell_type": "code",
   "execution_count": 21,
   "id": "767cd2cb",
   "metadata": {
    "execution": {
     "iopub.execute_input": "2023-07-21T09:39:24.067985Z",
     "iopub.status.busy": "2023-07-21T09:39:24.067546Z",
     "iopub.status.idle": "2023-07-21T09:39:31.159557Z",
     "shell.execute_reply": "2023-07-21T09:39:31.158266Z"
    },
    "papermill": {
     "duration": 7.11546,
     "end_time": "2023-07-21T09:39:31.162678",
     "exception": false,
     "start_time": "2023-07-21T09:39:24.047218",
     "status": "completed"
    },
    "tags": []
   },
   "outputs": [],
   "source": [
    "#stopwords removal\n",
    "from nltk.corpus import stopwords\n",
    "stop = stopwords.words('english')\n",
    "data['review_text'] = data['review_text'].apply(lambda x: ' '.join([word for word in x.split() if word not in (stop)]))"
   ]
  },
  {
   "cell_type": "markdown",
   "id": "1f1d4058",
   "metadata": {
    "papermill": {
     "duration": 0.019693,
     "end_time": "2023-07-21T09:39:31.201855",
     "exception": false,
     "start_time": "2023-07-21T09:39:31.182162",
     "status": "completed"
    },
    "tags": []
   },
   "source": [
    "# Text Vectorization"
   ]
  },
  {
   "cell_type": "code",
   "execution_count": 22,
   "id": "ebee39ba",
   "metadata": {
    "execution": {
     "iopub.execute_input": "2023-07-21T09:39:31.241858Z",
     "iopub.status.busy": "2023-07-21T09:39:31.241393Z",
     "iopub.status.idle": "2023-07-21T09:39:31.246795Z",
     "shell.execute_reply": "2023-07-21T09:39:31.245501Z"
    },
    "papermill": {
     "duration": 0.02828,
     "end_time": "2023-07-21T09:39:31.249198",
     "exception": false,
     "start_time": "2023-07-21T09:39:31.220918",
     "status": "completed"
    },
    "tags": []
   },
   "outputs": [],
   "source": [
    "from sklearn.feature_extraction.text import TfidfVectorizer"
   ]
  },
  {
   "cell_type": "code",
   "execution_count": 23,
   "id": "e3516d56",
   "metadata": {
    "execution": {
     "iopub.execute_input": "2023-07-21T09:39:31.290555Z",
     "iopub.status.busy": "2023-07-21T09:39:31.290099Z",
     "iopub.status.idle": "2023-07-21T09:39:31.295795Z",
     "shell.execute_reply": "2023-07-21T09:39:31.294708Z"
    },
    "papermill": {
     "duration": 0.029578,
     "end_time": "2023-07-21T09:39:31.298303",
     "exception": false,
     "start_time": "2023-07-21T09:39:31.268725",
     "status": "completed"
    },
    "tags": []
   },
   "outputs": [],
   "source": [
    "x=data['review_text']\n",
    "y=data['rating']"
   ]
  },
  {
   "cell_type": "code",
   "execution_count": 24,
   "id": "2a90119c",
   "metadata": {
    "execution": {
     "iopub.execute_input": "2023-07-21T09:39:31.338927Z",
     "iopub.status.busy": "2023-07-21T09:39:31.337624Z",
     "iopub.status.idle": "2023-07-21T09:39:37.008695Z",
     "shell.execute_reply": "2023-07-21T09:39:37.007507Z"
    },
    "papermill": {
     "duration": 5.69409,
     "end_time": "2023-07-21T09:39:37.011410",
     "exception": false,
     "start_time": "2023-07-21T09:39:31.317320",
     "status": "completed"
    },
    "tags": []
   },
   "outputs": [],
   "source": [
    "corpus = []\n",
    "for i in range(x.shape[0]):\n",
    "    corpus.append(x.iloc[i])\n",
    "vectorizer1 = TfidfVectorizer(max_features=1000)\n",
    "X1 = vectorizer1.fit_transform(x)\n",
    "feature_names1 = vectorizer1.get_feature_names_out()\n",
    "denselist1 = X1.todense().tolist()\n",
    "data= pd.DataFrame(denselist1, columns=feature_names1)"
   ]
  },
  {
   "cell_type": "code",
   "execution_count": 25,
   "id": "e6007ae3",
   "metadata": {
    "execution": {
     "iopub.execute_input": "2023-07-21T09:39:37.050695Z",
     "iopub.status.busy": "2023-07-21T09:39:37.050277Z",
     "iopub.status.idle": "2023-07-21T09:39:37.083780Z",
     "shell.execute_reply": "2023-07-21T09:39:37.082556Z"
    },
    "papermill": {
     "duration": 0.056103,
     "end_time": "2023-07-21T09:39:37.086295",
     "exception": false,
     "start_time": "2023-07-21T09:39:37.030192",
     "status": "completed"
    },
    "tags": []
   },
   "outputs": [
    {
     "data": {
      "text/html": [
       "<div>\n",
       "<style scoped>\n",
       "    .dataframe tbody tr th:only-of-type {\n",
       "        vertical-align: middle;\n",
       "    }\n",
       "\n",
       "    .dataframe tbody tr th {\n",
       "        vertical-align: top;\n",
       "    }\n",
       "\n",
       "    .dataframe thead th {\n",
       "        text-align: right;\n",
       "    }\n",
       "</style>\n",
       "<table border=\"1\" class=\"dataframe\">\n",
       "  <thead>\n",
       "    <tr style=\"text-align: right;\">\n",
       "      <th></th>\n",
       "      <th>ability</th>\n",
       "      <th>able</th>\n",
       "      <th>about</th>\n",
       "      <th>absolutely</th>\n",
       "      <th>accept</th>\n",
       "      <th>across</th>\n",
       "      <th>act</th>\n",
       "      <th>action</th>\n",
       "      <th>actions</th>\n",
       "      <th>actually</th>\n",
       "      <th>...</th>\n",
       "      <th>ya</th>\n",
       "      <th>yeah</th>\n",
       "      <th>year</th>\n",
       "      <th>years</th>\n",
       "      <th>yes</th>\n",
       "      <th>yet</th>\n",
       "      <th>you</th>\n",
       "      <th>young</th>\n",
       "      <th>younger</th>\n",
       "      <th>zach</th>\n",
       "    </tr>\n",
       "  </thead>\n",
       "  <tbody>\n",
       "    <tr>\n",
       "      <th>0</th>\n",
       "      <td>0.0</td>\n",
       "      <td>0.0</td>\n",
       "      <td>0.0</td>\n",
       "      <td>0.000000</td>\n",
       "      <td>0.0</td>\n",
       "      <td>0.0</td>\n",
       "      <td>0.0</td>\n",
       "      <td>0.0</td>\n",
       "      <td>0.0</td>\n",
       "      <td>0.000000</td>\n",
       "      <td>...</td>\n",
       "      <td>0.0</td>\n",
       "      <td>0.000000</td>\n",
       "      <td>0.0</td>\n",
       "      <td>0.000</td>\n",
       "      <td>0.000000</td>\n",
       "      <td>0.000000</td>\n",
       "      <td>0.00000</td>\n",
       "      <td>0.0</td>\n",
       "      <td>0.000000</td>\n",
       "      <td>0.0</td>\n",
       "    </tr>\n",
       "    <tr>\n",
       "      <th>1</th>\n",
       "      <td>0.0</td>\n",
       "      <td>0.0</td>\n",
       "      <td>0.0</td>\n",
       "      <td>0.000000</td>\n",
       "      <td>0.0</td>\n",
       "      <td>0.0</td>\n",
       "      <td>0.0</td>\n",
       "      <td>0.0</td>\n",
       "      <td>0.0</td>\n",
       "      <td>0.000000</td>\n",
       "      <td>...</td>\n",
       "      <td>0.0</td>\n",
       "      <td>0.000000</td>\n",
       "      <td>0.0</td>\n",
       "      <td>0.000</td>\n",
       "      <td>0.000000</td>\n",
       "      <td>0.000000</td>\n",
       "      <td>0.00000</td>\n",
       "      <td>0.0</td>\n",
       "      <td>0.000000</td>\n",
       "      <td>0.0</td>\n",
       "    </tr>\n",
       "    <tr>\n",
       "      <th>2</th>\n",
       "      <td>0.0</td>\n",
       "      <td>0.0</td>\n",
       "      <td>0.0</td>\n",
       "      <td>0.000000</td>\n",
       "      <td>0.0</td>\n",
       "      <td>0.0</td>\n",
       "      <td>0.0</td>\n",
       "      <td>0.0</td>\n",
       "      <td>0.0</td>\n",
       "      <td>0.030959</td>\n",
       "      <td>...</td>\n",
       "      <td>0.0</td>\n",
       "      <td>0.044776</td>\n",
       "      <td>0.0</td>\n",
       "      <td>0.028</td>\n",
       "      <td>0.033143</td>\n",
       "      <td>0.000000</td>\n",
       "      <td>0.02637</td>\n",
       "      <td>0.0</td>\n",
       "      <td>0.044776</td>\n",
       "      <td>0.0</td>\n",
       "    </tr>\n",
       "    <tr>\n",
       "      <th>3</th>\n",
       "      <td>0.0</td>\n",
       "      <td>0.0</td>\n",
       "      <td>0.0</td>\n",
       "      <td>0.089574</td>\n",
       "      <td>0.0</td>\n",
       "      <td>0.0</td>\n",
       "      <td>0.0</td>\n",
       "      <td>0.0</td>\n",
       "      <td>0.0</td>\n",
       "      <td>0.000000</td>\n",
       "      <td>...</td>\n",
       "      <td>0.0</td>\n",
       "      <td>0.000000</td>\n",
       "      <td>0.0</td>\n",
       "      <td>0.000</td>\n",
       "      <td>0.000000</td>\n",
       "      <td>0.105757</td>\n",
       "      <td>0.00000</td>\n",
       "      <td>0.0</td>\n",
       "      <td>0.000000</td>\n",
       "      <td>0.0</td>\n",
       "    </tr>\n",
       "    <tr>\n",
       "      <th>4</th>\n",
       "      <td>0.0</td>\n",
       "      <td>0.0</td>\n",
       "      <td>0.0</td>\n",
       "      <td>0.000000</td>\n",
       "      <td>0.0</td>\n",
       "      <td>0.0</td>\n",
       "      <td>0.0</td>\n",
       "      <td>0.0</td>\n",
       "      <td>0.0</td>\n",
       "      <td>0.000000</td>\n",
       "      <td>...</td>\n",
       "      <td>0.0</td>\n",
       "      <td>0.000000</td>\n",
       "      <td>0.0</td>\n",
       "      <td>0.000</td>\n",
       "      <td>0.000000</td>\n",
       "      <td>0.000000</td>\n",
       "      <td>0.00000</td>\n",
       "      <td>0.0</td>\n",
       "      <td>0.000000</td>\n",
       "      <td>0.0</td>\n",
       "    </tr>\n",
       "  </tbody>\n",
       "</table>\n",
       "<p>5 rows × 1000 columns</p>\n",
       "</div>"
      ],
      "text/plain": [
       "   ability  able  about  absolutely  accept  across  act  action  actions  \\\n",
       "0      0.0   0.0    0.0    0.000000     0.0     0.0  0.0     0.0      0.0   \n",
       "1      0.0   0.0    0.0    0.000000     0.0     0.0  0.0     0.0      0.0   \n",
       "2      0.0   0.0    0.0    0.000000     0.0     0.0  0.0     0.0      0.0   \n",
       "3      0.0   0.0    0.0    0.089574     0.0     0.0  0.0     0.0      0.0   \n",
       "4      0.0   0.0    0.0    0.000000     0.0     0.0  0.0     0.0      0.0   \n",
       "\n",
       "   actually  ...   ya      yeah  year  years       yes       yet      you  \\\n",
       "0  0.000000  ...  0.0  0.000000   0.0  0.000  0.000000  0.000000  0.00000   \n",
       "1  0.000000  ...  0.0  0.000000   0.0  0.000  0.000000  0.000000  0.00000   \n",
       "2  0.030959  ...  0.0  0.044776   0.0  0.028  0.033143  0.000000  0.02637   \n",
       "3  0.000000  ...  0.0  0.000000   0.0  0.000  0.000000  0.105757  0.00000   \n",
       "4  0.000000  ...  0.0  0.000000   0.0  0.000  0.000000  0.000000  0.00000   \n",
       "\n",
       "   young   younger  zach  \n",
       "0    0.0  0.000000   0.0  \n",
       "1    0.0  0.000000   0.0  \n",
       "2    0.0  0.044776   0.0  \n",
       "3    0.0  0.000000   0.0  \n",
       "4    0.0  0.000000   0.0  \n",
       "\n",
       "[5 rows x 1000 columns]"
      ]
     },
     "execution_count": 25,
     "metadata": {},
     "output_type": "execute_result"
    }
   ],
   "source": [
    "data.head()"
   ]
  },
  {
   "cell_type": "markdown",
   "id": "b569866d",
   "metadata": {
    "papermill": {
     "duration": 0.018949,
     "end_time": "2023-07-21T09:39:37.124622",
     "exception": false,
     "start_time": "2023-07-21T09:39:37.105673",
     "status": "completed"
    },
    "tags": []
   },
   "source": [
    "# Train Test split"
   ]
  },
  {
   "cell_type": "code",
   "execution_count": 26,
   "id": "e989dee3",
   "metadata": {
    "execution": {
     "iopub.execute_input": "2023-07-21T09:39:37.165028Z",
     "iopub.status.busy": "2023-07-21T09:39:37.164554Z",
     "iopub.status.idle": "2023-07-21T09:39:37.169794Z",
     "shell.execute_reply": "2023-07-21T09:39:37.168787Z"
    },
    "papermill": {
     "duration": 0.028238,
     "end_time": "2023-07-21T09:39:37.172086",
     "exception": false,
     "start_time": "2023-07-21T09:39:37.143848",
     "status": "completed"
    },
    "tags": []
   },
   "outputs": [],
   "source": [
    "from sklearn.model_selection import train_test_split"
   ]
  },
  {
   "cell_type": "code",
   "execution_count": 27,
   "id": "54ed55c9",
   "metadata": {
    "execution": {
     "iopub.execute_input": "2023-07-21T09:39:37.213302Z",
     "iopub.status.busy": "2023-07-21T09:39:37.212157Z",
     "iopub.status.idle": "2023-07-21T09:39:37.270879Z",
     "shell.execute_reply": "2023-07-21T09:39:37.269717Z"
    },
    "papermill": {
     "duration": 0.082405,
     "end_time": "2023-07-21T09:39:37.273780",
     "exception": false,
     "start_time": "2023-07-21T09:39:37.191375",
     "status": "completed"
    },
    "tags": []
   },
   "outputs": [],
   "source": [
    "x_train,x_test,y_train,y_test=train_test_split(data,y,test_size=0.2,random_state=2)"
   ]
  },
  {
   "cell_type": "markdown",
   "id": "9292bb45",
   "metadata": {
    "papermill": {
     "duration": 0.019125,
     "end_time": "2023-07-21T09:39:37.313046",
     "exception": false,
     "start_time": "2023-07-21T09:39:37.293921",
     "status": "completed"
    },
    "tags": []
   },
   "source": [
    "# Logistic Regression "
   ]
  },
  {
   "cell_type": "code",
   "execution_count": 28,
   "id": "23777ee7",
   "metadata": {
    "execution": {
     "iopub.execute_input": "2023-07-21T09:39:37.354711Z",
     "iopub.status.busy": "2023-07-21T09:39:37.353684Z",
     "iopub.status.idle": "2023-07-21T09:39:37.358649Z",
     "shell.execute_reply": "2023-07-21T09:39:37.357734Z"
    },
    "papermill": {
     "duration": 0.028516,
     "end_time": "2023-07-21T09:39:37.360767",
     "exception": false,
     "start_time": "2023-07-21T09:39:37.332251",
     "status": "completed"
    },
    "tags": []
   },
   "outputs": [],
   "source": [
    "from sklearn.linear_model import LogisticRegression"
   ]
  },
  {
   "cell_type": "code",
   "execution_count": 29,
   "id": "5b86854e",
   "metadata": {
    "execution": {
     "iopub.execute_input": "2023-07-21T09:39:37.402310Z",
     "iopub.status.busy": "2023-07-21T09:39:37.401560Z",
     "iopub.status.idle": "2023-07-21T09:39:40.414997Z",
     "shell.execute_reply": "2023-07-21T09:39:40.413771Z"
    },
    "papermill": {
     "duration": 3.039478,
     "end_time": "2023-07-21T09:39:40.419560",
     "exception": false,
     "start_time": "2023-07-21T09:39:37.380082",
     "status": "completed"
    },
    "tags": []
   },
   "outputs": [
    {
     "name": "stderr",
     "output_type": "stream",
     "text": [
      "/opt/conda/lib/python3.10/site-packages/sklearn/linear_model/_logistic.py:458: ConvergenceWarning: lbfgs failed to converge (status=1):\n",
      "STOP: TOTAL NO. of ITERATIONS REACHED LIMIT.\n",
      "\n",
      "Increase the number of iterations (max_iter) or scale the data as shown in:\n",
      "    https://scikit-learn.org/stable/modules/preprocessing.html\n",
      "Please also refer to the documentation for alternative solver options:\n",
      "    https://scikit-learn.org/stable/modules/linear_model.html#logistic-regression\n",
      "  n_iter_i = _check_optimize_result(\n"
     ]
    }
   ],
   "source": [
    "logclf=LogisticRegression().fit(x_train,y_train)"
   ]
  },
  {
   "cell_type": "code",
   "execution_count": 30,
   "id": "f1aa61c1",
   "metadata": {
    "execution": {
     "iopub.execute_input": "2023-07-21T09:39:40.505379Z",
     "iopub.status.busy": "2023-07-21T09:39:40.504717Z",
     "iopub.status.idle": "2023-07-21T09:39:40.545008Z",
     "shell.execute_reply": "2023-07-21T09:39:40.543813Z"
    },
    "papermill": {
     "duration": 0.087355,
     "end_time": "2023-07-21T09:39:40.548982",
     "exception": false,
     "start_time": "2023-07-21T09:39:40.461627",
     "status": "completed"
    },
    "tags": []
   },
   "outputs": [
    {
     "data": {
      "text/plain": [
       "array([5, 4, 5, ..., 4, 5, 4])"
      ]
     },
     "execution_count": 30,
     "metadata": {},
     "output_type": "execute_result"
    }
   ],
   "source": [
    "logpred=logclf.predict(x_test)\n",
    "logpred"
   ]
  },
  {
   "cell_type": "code",
   "execution_count": 31,
   "id": "3d26a188",
   "metadata": {
    "execution": {
     "iopub.execute_input": "2023-07-21T09:39:40.638141Z",
     "iopub.status.busy": "2023-07-21T09:39:40.637401Z",
     "iopub.status.idle": "2023-07-21T09:39:40.644431Z",
     "shell.execute_reply": "2023-07-21T09:39:40.643247Z"
    },
    "papermill": {
     "duration": 0.055558,
     "end_time": "2023-07-21T09:39:40.647913",
     "exception": false,
     "start_time": "2023-07-21T09:39:40.592355",
     "status": "completed"
    },
    "tags": []
   },
   "outputs": [],
   "source": [
    "from sklearn.metrics import accuracy_score"
   ]
  },
  {
   "cell_type": "code",
   "execution_count": 32,
   "id": "642b7d41",
   "metadata": {
    "execution": {
     "iopub.execute_input": "2023-07-21T09:39:40.695232Z",
     "iopub.status.busy": "2023-07-21T09:39:40.694846Z",
     "iopub.status.idle": "2023-07-21T09:39:40.703490Z",
     "shell.execute_reply": "2023-07-21T09:39:40.702629Z"
    },
    "papermill": {
     "duration": 0.032491,
     "end_time": "2023-07-21T09:39:40.706040",
     "exception": false,
     "start_time": "2023-07-21T09:39:40.673549",
     "status": "completed"
    },
    "tags": []
   },
   "outputs": [
    {
     "data": {
      "text/plain": [
       "0.7144444444444444"
      ]
     },
     "execution_count": 32,
     "metadata": {},
     "output_type": "execute_result"
    }
   ],
   "source": [
    "logacc=accuracy_score(y_test,logpred)\n",
    "logacc"
   ]
  },
  {
   "cell_type": "markdown",
   "id": "97567776",
   "metadata": {
    "papermill": {
     "duration": 0.01952,
     "end_time": "2023-07-21T09:39:40.745199",
     "exception": false,
     "start_time": "2023-07-21T09:39:40.725679",
     "status": "completed"
    },
    "tags": []
   },
   "source": [
    "# Desicion Tree"
   ]
  },
  {
   "cell_type": "code",
   "execution_count": 33,
   "id": "65e62128",
   "metadata": {
    "execution": {
     "iopub.execute_input": "2023-07-21T09:39:40.787245Z",
     "iopub.status.busy": "2023-07-21T09:39:40.786443Z",
     "iopub.status.idle": "2023-07-21T09:39:40.969723Z",
     "shell.execute_reply": "2023-07-21T09:39:40.968200Z"
    },
    "papermill": {
     "duration": 0.207937,
     "end_time": "2023-07-21T09:39:40.973025",
     "exception": false,
     "start_time": "2023-07-21T09:39:40.765088",
     "status": "completed"
    },
    "tags": []
   },
   "outputs": [],
   "source": [
    "from sklearn.tree import DecisionTreeClassifier"
   ]
  },
  {
   "cell_type": "code",
   "execution_count": 34,
   "id": "f5e0a95c",
   "metadata": {
    "execution": {
     "iopub.execute_input": "2023-07-21T09:39:41.015132Z",
     "iopub.status.busy": "2023-07-21T09:39:41.014311Z",
     "iopub.status.idle": "2023-07-21T09:39:42.865870Z",
     "shell.execute_reply": "2023-07-21T09:39:42.864632Z"
    },
    "papermill": {
     "duration": 1.876161,
     "end_time": "2023-07-21T09:39:42.869153",
     "exception": false,
     "start_time": "2023-07-21T09:39:40.992992",
     "status": "completed"
    },
    "tags": []
   },
   "outputs": [],
   "source": [
    "treeclf=DecisionTreeClassifier(criterion='gini',max_depth=100).fit(x_train,y_train)"
   ]
  },
  {
   "cell_type": "code",
   "execution_count": 35,
   "id": "95c31d03",
   "metadata": {
    "execution": {
     "iopub.execute_input": "2023-07-21T09:39:42.912868Z",
     "iopub.status.busy": "2023-07-21T09:39:42.912488Z",
     "iopub.status.idle": "2023-07-21T09:39:42.938149Z",
     "shell.execute_reply": "2023-07-21T09:39:42.936890Z"
    },
    "papermill": {
     "duration": 0.050901,
     "end_time": "2023-07-21T09:39:42.940888",
     "exception": false,
     "start_time": "2023-07-21T09:39:42.889987",
     "status": "completed"
    },
    "tags": []
   },
   "outputs": [
    {
     "data": {
      "text/plain": [
       "array([5, 4, 5, ..., 4, 5, 5])"
      ]
     },
     "execution_count": 35,
     "metadata": {},
     "output_type": "execute_result"
    }
   ],
   "source": [
    "treepred=treeclf.predict(x_test)\n",
    "treepred"
   ]
  },
  {
   "cell_type": "code",
   "execution_count": 36,
   "id": "e86ed09e",
   "metadata": {
    "execution": {
     "iopub.execute_input": "2023-07-21T09:39:42.982797Z",
     "iopub.status.busy": "2023-07-21T09:39:42.982361Z",
     "iopub.status.idle": "2023-07-21T09:39:42.992442Z",
     "shell.execute_reply": "2023-07-21T09:39:42.991139Z"
    },
    "papermill": {
     "duration": 0.033747,
     "end_time": "2023-07-21T09:39:42.994948",
     "exception": false,
     "start_time": "2023-07-21T09:39:42.961201",
     "status": "completed"
    },
    "tags": []
   },
   "outputs": [
    {
     "data": {
      "text/plain": [
       "0.9355555555555556"
      ]
     },
     "execution_count": 36,
     "metadata": {},
     "output_type": "execute_result"
    }
   ],
   "source": [
    "treeacc=accuracy_score(y_test,treepred)\n",
    "treeacc"
   ]
  },
  {
   "cell_type": "markdown",
   "id": "3932a258",
   "metadata": {
    "papermill": {
     "duration": 0.019686,
     "end_time": "2023-07-21T09:39:43.035248",
     "exception": false,
     "start_time": "2023-07-21T09:39:43.015562",
     "status": "completed"
    },
    "tags": []
   },
   "source": [
    "# Random forest "
   ]
  },
  {
   "cell_type": "code",
   "execution_count": 37,
   "id": "27899063",
   "metadata": {
    "execution": {
     "iopub.execute_input": "2023-07-21T09:39:43.079021Z",
     "iopub.status.busy": "2023-07-21T09:39:43.078635Z",
     "iopub.status.idle": "2023-07-21T09:39:43.204604Z",
     "shell.execute_reply": "2023-07-21T09:39:43.203442Z"
    },
    "papermill": {
     "duration": 0.151515,
     "end_time": "2023-07-21T09:39:43.207524",
     "exception": false,
     "start_time": "2023-07-21T09:39:43.056009",
     "status": "completed"
    },
    "tags": []
   },
   "outputs": [],
   "source": [
    "from sklearn.ensemble import RandomForestClassifier"
   ]
  },
  {
   "cell_type": "code",
   "execution_count": 38,
   "id": "2fe4e27d",
   "metadata": {
    "execution": {
     "iopub.execute_input": "2023-07-21T09:39:43.249547Z",
     "iopub.status.busy": "2023-07-21T09:39:43.249132Z",
     "iopub.status.idle": "2023-07-21T09:40:12.454268Z",
     "shell.execute_reply": "2023-07-21T09:40:12.452968Z"
    },
    "papermill": {
     "duration": 29.229186,
     "end_time": "2023-07-21T09:40:12.457083",
     "exception": false,
     "start_time": "2023-07-21T09:39:43.227897",
     "status": "completed"
    },
    "tags": []
   },
   "outputs": [],
   "source": [
    "rfcclf=RandomForestClassifier(n_estimators=1000,max_features='log2').fit(x_train,y_train)"
   ]
  },
  {
   "cell_type": "code",
   "execution_count": 39,
   "id": "17df3708",
   "metadata": {
    "execution": {
     "iopub.execute_input": "2023-07-21T09:40:12.500485Z",
     "iopub.status.busy": "2023-07-21T09:40:12.500022Z",
     "iopub.status.idle": "2023-07-21T09:40:13.514495Z",
     "shell.execute_reply": "2023-07-21T09:40:13.513306Z"
    },
    "papermill": {
     "duration": 1.038712,
     "end_time": "2023-07-21T09:40:13.516958",
     "exception": false,
     "start_time": "2023-07-21T09:40:12.478246",
     "status": "completed"
    },
    "tags": []
   },
   "outputs": [
    {
     "data": {
      "text/plain": [
       "array([5, 4, 5, ..., 4, 5, 5])"
      ]
     },
     "execution_count": 39,
     "metadata": {},
     "output_type": "execute_result"
    }
   ],
   "source": [
    "rfcpred=rfcclf.predict(x_test)\n",
    "rfcpred"
   ]
  },
  {
   "cell_type": "code",
   "execution_count": 40,
   "id": "2f0a324e",
   "metadata": {
    "execution": {
     "iopub.execute_input": "2023-07-21T09:40:13.561950Z",
     "iopub.status.busy": "2023-07-21T09:40:13.561219Z",
     "iopub.status.idle": "2023-07-21T09:40:14.563443Z",
     "shell.execute_reply": "2023-07-21T09:40:14.562112Z"
    },
    "papermill": {
     "duration": 1.02855,
     "end_time": "2023-07-21T09:40:14.566686",
     "exception": false,
     "start_time": "2023-07-21T09:40:13.538136",
     "status": "completed"
    },
    "tags": []
   },
   "outputs": [
    {
     "data": {
      "text/plain": [
       "0.9538888888888889"
      ]
     },
     "execution_count": 40,
     "metadata": {},
     "output_type": "execute_result"
    }
   ],
   "source": [
    "rfcacc=rfcclf.score(x_test,y_test)\n",
    "rfcacc"
   ]
  },
  {
   "cell_type": "markdown",
   "id": "b7311b0f",
   "metadata": {
    "papermill": {
     "duration": 0.024235,
     "end_time": "2023-07-21T09:40:14.616102",
     "exception": false,
     "start_time": "2023-07-21T09:40:14.591867",
     "status": "completed"
    },
    "tags": []
   },
   "source": [
    "# KNN"
   ]
  },
  {
   "cell_type": "code",
   "execution_count": 41,
   "id": "65928b33",
   "metadata": {
    "execution": {
     "iopub.execute_input": "2023-07-21T09:40:14.665675Z",
     "iopub.status.busy": "2023-07-21T09:40:14.665255Z",
     "iopub.status.idle": "2023-07-21T09:40:14.669204Z",
     "shell.execute_reply": "2023-07-21T09:40:14.668481Z"
    },
    "papermill": {
     "duration": 0.032149,
     "end_time": "2023-07-21T09:40:14.671436",
     "exception": false,
     "start_time": "2023-07-21T09:40:14.639287",
     "status": "completed"
    },
    "tags": []
   },
   "outputs": [],
   "source": [
    "from sklearn.neighbors import KNeighborsClassifier"
   ]
  },
  {
   "cell_type": "code",
   "execution_count": 42,
   "id": "c434bda1",
   "metadata": {
    "execution": {
     "iopub.execute_input": "2023-07-21T09:40:14.714728Z",
     "iopub.status.busy": "2023-07-21T09:40:14.713983Z",
     "iopub.status.idle": "2023-07-21T09:40:14.775951Z",
     "shell.execute_reply": "2023-07-21T09:40:14.775102Z"
    },
    "papermill": {
     "duration": 0.08645,
     "end_time": "2023-07-21T09:40:14.778525",
     "exception": false,
     "start_time": "2023-07-21T09:40:14.692075",
     "status": "completed"
    },
    "tags": []
   },
   "outputs": [],
   "source": [
    "knnclf=KNeighborsClassifier(metric='manhattan',weights='distance',n_neighbors=10).fit(x_train,y_train)"
   ]
  },
  {
   "cell_type": "code",
   "execution_count": 43,
   "id": "6dcdbc8f",
   "metadata": {
    "execution": {
     "iopub.execute_input": "2023-07-21T09:40:14.821305Z",
     "iopub.status.busy": "2023-07-21T09:40:14.820677Z",
     "iopub.status.idle": "2023-07-21T09:40:23.058551Z",
     "shell.execute_reply": "2023-07-21T09:40:23.056382Z"
    },
    "papermill": {
     "duration": 8.262628,
     "end_time": "2023-07-21T09:40:23.061666",
     "exception": false,
     "start_time": "2023-07-21T09:40:14.799038",
     "status": "completed"
    },
    "tags": []
   },
   "outputs": [
    {
     "data": {
      "text/plain": [
       "0.9111111111111111"
      ]
     },
     "execution_count": 43,
     "metadata": {},
     "output_type": "execute_result"
    }
   ],
   "source": [
    "knnacc=knnclf.score(x_test,y_test)\n",
    "knnacc"
   ]
  },
  {
   "cell_type": "markdown",
   "id": "15ac8e10",
   "metadata": {
    "papermill": {
     "duration": 0.020409,
     "end_time": "2023-07-21T09:40:23.103754",
     "exception": false,
     "start_time": "2023-07-21T09:40:23.083345",
     "status": "completed"
    },
    "tags": []
   },
   "source": [
    "# linear Regression"
   ]
  },
  {
   "cell_type": "code",
   "execution_count": 44,
   "id": "3fb3d37a",
   "metadata": {
    "execution": {
     "iopub.execute_input": "2023-07-21T09:40:23.147753Z",
     "iopub.status.busy": "2023-07-21T09:40:23.147345Z",
     "iopub.status.idle": "2023-07-21T09:40:23.152174Z",
     "shell.execute_reply": "2023-07-21T09:40:23.151042Z"
    },
    "papermill": {
     "duration": 0.030186,
     "end_time": "2023-07-21T09:40:23.154592",
     "exception": false,
     "start_time": "2023-07-21T09:40:23.124406",
     "status": "completed"
    },
    "tags": []
   },
   "outputs": [],
   "source": [
    "from sklearn.linear_model import LinearRegression"
   ]
  },
  {
   "cell_type": "code",
   "execution_count": 45,
   "id": "e6e40ad2",
   "metadata": {
    "execution": {
     "iopub.execute_input": "2023-07-21T09:40:23.197019Z",
     "iopub.status.busy": "2023-07-21T09:40:23.196626Z",
     "iopub.status.idle": "2023-07-21T09:40:24.437742Z",
     "shell.execute_reply": "2023-07-21T09:40:24.436123Z"
    },
    "papermill": {
     "duration": 1.267072,
     "end_time": "2023-07-21T09:40:24.441986",
     "exception": false,
     "start_time": "2023-07-21T09:40:23.174914",
     "status": "completed"
    },
    "tags": []
   },
   "outputs": [],
   "source": [
    "linclf=LinearRegression().fit(x_train,y_train)"
   ]
  },
  {
   "cell_type": "code",
   "execution_count": 46,
   "id": "466f1412",
   "metadata": {
    "execution": {
     "iopub.execute_input": "2023-07-21T09:40:24.551181Z",
     "iopub.status.busy": "2023-07-21T09:40:24.550767Z",
     "iopub.status.idle": "2023-07-21T09:40:24.603761Z",
     "shell.execute_reply": "2023-07-21T09:40:24.601231Z"
    },
    "papermill": {
     "duration": 0.122561,
     "end_time": "2023-07-21T09:40:24.615246",
     "exception": false,
     "start_time": "2023-07-21T09:40:24.492685",
     "status": "completed"
    },
    "tags": []
   },
   "outputs": [
    {
     "data": {
      "text/plain": [
       "0.4762691011979646"
      ]
     },
     "execution_count": 46,
     "metadata": {},
     "output_type": "execute_result"
    }
   ],
   "source": [
    "linacc=linclf.score(x_test,y_test)\n",
    "linacc"
   ]
  },
  {
   "cell_type": "markdown",
   "id": "5300b735",
   "metadata": {
    "papermill": {
     "duration": 0.042087,
     "end_time": "2023-07-21T09:40:24.707930",
     "exception": false,
     "start_time": "2023-07-21T09:40:24.665843",
     "status": "completed"
    },
    "tags": []
   },
   "source": [
    "# Evaluation"
   ]
  },
  {
   "cell_type": "code",
   "execution_count": 47,
   "id": "c31c2170",
   "metadata": {
    "execution": {
     "iopub.execute_input": "2023-07-21T09:40:24.751034Z",
     "iopub.status.busy": "2023-07-21T09:40:24.750630Z",
     "iopub.status.idle": "2023-07-21T09:40:24.758914Z",
     "shell.execute_reply": "2023-07-21T09:40:24.758077Z"
    },
    "papermill": {
     "duration": 0.032562,
     "end_time": "2023-07-21T09:40:24.761177",
     "exception": false,
     "start_time": "2023-07-21T09:40:24.728615",
     "status": "completed"
    },
    "tags": []
   },
   "outputs": [
    {
     "data": {
      "text/plain": [
       "[47.62691011979646,\n",
       " 71.44444444444444,\n",
       " 93.55555555555556,\n",
       " 95.38888888888889,\n",
       " 91.11111111111111]"
      ]
     },
     "execution_count": 47,
     "metadata": {},
     "output_type": "execute_result"
    }
   ],
   "source": [
    "acc=[];\n",
    "acc.append(linacc*100)\n",
    "acc.append(logacc*100)\n",
    "acc.append(treeacc*100)\n",
    "acc.append(rfcacc*100)\n",
    "acc.append(knnacc*100)\n",
    "acc"
   ]
  },
  {
   "cell_type": "code",
   "execution_count": 48,
   "id": "f64ebbad",
   "metadata": {
    "execution": {
     "iopub.execute_input": "2023-07-21T09:40:24.805121Z",
     "iopub.status.busy": "2023-07-21T09:40:24.804151Z",
     "iopub.status.idle": "2023-07-21T09:40:24.817555Z",
     "shell.execute_reply": "2023-07-21T09:40:24.816372Z"
    },
    "papermill": {
     "duration": 0.037615,
     "end_time": "2023-07-21T09:40:24.819802",
     "exception": false,
     "start_time": "2023-07-21T09:40:24.782187",
     "status": "completed"
    },
    "tags": []
   },
   "outputs": [
    {
     "data": {
      "text/html": [
       "<div>\n",
       "<style scoped>\n",
       "    .dataframe tbody tr th:only-of-type {\n",
       "        vertical-align: middle;\n",
       "    }\n",
       "\n",
       "    .dataframe tbody tr th {\n",
       "        vertical-align: top;\n",
       "    }\n",
       "\n",
       "    .dataframe thead th {\n",
       "        text-align: right;\n",
       "    }\n",
       "</style>\n",
       "<table border=\"1\" class=\"dataframe\">\n",
       "  <thead>\n",
       "    <tr style=\"text-align: right;\">\n",
       "      <th></th>\n",
       "      <th>model</th>\n",
       "      <th>accuracy</th>\n",
       "    </tr>\n",
       "  </thead>\n",
       "  <tbody>\n",
       "    <tr>\n",
       "      <th>0</th>\n",
       "      <td>Linear Regression</td>\n",
       "      <td>47.626910</td>\n",
       "    </tr>\n",
       "    <tr>\n",
       "      <th>1</th>\n",
       "      <td>Logistic Regression</td>\n",
       "      <td>71.444444</td>\n",
       "    </tr>\n",
       "    <tr>\n",
       "      <th>2</th>\n",
       "      <td>Decision Tree</td>\n",
       "      <td>93.555556</td>\n",
       "    </tr>\n",
       "    <tr>\n",
       "      <th>3</th>\n",
       "      <td>Random Forest</td>\n",
       "      <td>95.388889</td>\n",
       "    </tr>\n",
       "    <tr>\n",
       "      <th>4</th>\n",
       "      <td>K Nearest Neighbors</td>\n",
       "      <td>91.111111</td>\n",
       "    </tr>\n",
       "  </tbody>\n",
       "</table>\n",
       "</div>"
      ],
      "text/plain": [
       "                 model   accuracy\n",
       "0    Linear Regression  47.626910\n",
       "1  Logistic Regression  71.444444\n",
       "2        Decision Tree  93.555556\n",
       "3        Random Forest  95.388889\n",
       "4  K Nearest Neighbors  91.111111"
      ]
     },
     "execution_count": 48,
     "metadata": {},
     "output_type": "execute_result"
    }
   ],
   "source": [
    "model=['Linear Regression','Logistic Regression','Decision Tree','Random Forest','K Nearest Neighbors']\n",
    "data={'model':model,'accuracy':acc}\n",
    "compare_models=pd.DataFrame(data)\n",
    "compare_models"
   ]
  },
  {
   "cell_type": "code",
   "execution_count": 49,
   "id": "803accdc",
   "metadata": {
    "execution": {
     "iopub.execute_input": "2023-07-21T09:40:24.863527Z",
     "iopub.status.busy": "2023-07-21T09:40:24.862748Z",
     "iopub.status.idle": "2023-07-21T09:40:25.162585Z",
     "shell.execute_reply": "2023-07-21T09:40:25.161272Z"
    },
    "papermill": {
     "duration": 0.326092,
     "end_time": "2023-07-21T09:40:25.166830",
     "exception": false,
     "start_time": "2023-07-21T09:40:24.840738",
     "status": "completed"
    },
    "tags": []
   },
   "outputs": [
    {
     "data": {
      "text/plain": [
       "<BarContainer object of 5 artists>"
      ]
     },
     "execution_count": 49,
     "metadata": {},
     "output_type": "execute_result"
    },
    {
     "data": {
      "image/png": "[encoded data removed]",
      "text/plain": [
       "<Figure size 1200x800 with 1 Axes>"
      ]
     },
     "metadata": {},
     "output_type": "display_data"
    }
   ],
   "source": [
    "import matplotlib.pyplot as plt\n",
    "plt.figure(figsize=(12,8))\n",
    "plt.bar(model,acc)"
   ]
  }
 ],
 "metadata": {
  "kernelspec": {
   "display_name": "Python 3",
   "language": "python",
   "name": "python3"
  },
  "language_info": {
   "codemirror_mode": {
    "name": "ipython",
    "version": 3
   },
   "file_extension": ".py",
   "mimetype": "text/x-python",
   "name": "python",
   "nbconvert_exporter": "python",
   "pygments_lexer": "ipython3",
   "version": "3.10.10"
  },
  "papermill": {
   "default_parameters": {},
   "duration": 109.047222,
   "end_time": "2023-07-21T09:40:26.821941",
   "environment_variables": {},
   "exception": null,
   "input_path": "__notebook__.ipynb",
   "output_path": "__notebook__.ipynb",
   "parameters": {},
   "start_time": "2023-07-21T09:38:37.774719",
   "version": "2.4.0"
  }
 },
 "nbformat": 4,
 "nbformat_minor": 5
}
